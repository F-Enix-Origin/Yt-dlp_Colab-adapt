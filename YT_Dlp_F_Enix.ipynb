{
  "nbformat": 4,
  "nbformat_minor": 0,
  "metadata": {
    "colab": {
      "provenance": [],
      "authorship_tag": "ABX9TyOyTl7vyzhjwnCHIV+j2iJq",
      "include_colab_link": true
    },
    "kernelspec": {
      "name": "python3",
      "display_name": "Python 3"
    },
    "language_info": {
      "name": "python"
    }
  },
  "cells": [
    {
      "cell_type": "markdown",
      "metadata": {
        "id": "view-in-github",
        "colab_type": "text"
      },
      "source": [
        "<a href=\"https://colab.research.google.com/github/F-Enix-Origin/Yt-dlp_Colab-adapt/blob/main/YT_Dlp_F_Enix.ipynb\" target=\"_parent\"><img src=\"https://colab.research.google.com/assets/colab-badge.svg\" alt=\"Open In Colab\"/></a>"
      ]
    },
    {
      "cell_type": "code",
      "execution_count": null,
      "metadata": {
        "id": "Kv2ESlF_XEtJ"
      },
      "outputs": [],
      "source": [
        "!wget https://github.com/yt-dlp/yt-dlp/releases/latest/download/yt-dlp"
      ]
    },
    {
      "cell_type": "code",
      "source": [
        "!sudo python yt-dlp -f bestaudio -x --audio-format mp3 --audio-quality 320k -o \"%(playlist_title)s/%(playlist_index)s - %(title)s.%(ext)s\" --embed-thumbnail --add-metadata https://www.youtube.com/playlist?list=PL2XjmdkuVL-3Yybg24FG_aBdLjBE4Quru"
      ],
      "metadata": {
        "id": "iRGLnbm-KvBl"
      },
      "execution_count": null,
      "outputs": []
    },
    {
      "cell_type": "code",
      "source": [
        "!sudo python yt-dlp -f bestaudio -x --audio-format mp3 --audio-quality 320k -o \"%(title)s.%(ext)s\" --embed-thumbnail --add-metadata https://www.youtube.com/watch?v=dQw4w9WgXcQ"
      ],
      "metadata": {
        "id": "alqwP92gYBmv"
      },
      "execution_count": null,
      "outputs": []
    },
    {
      "cell_type": "code",
      "source": [
        "import shutil\n",
        "\n",
        "# Specify the folder you want to compress\n",
        "folder_path = '/content/The Legend of Zelda： Tears of the Kingdom OST'\n",
        "\n",
        "# Specify the output ZIP file path\n",
        "zip_file_path = '/content/The Legend of Zelda： Tears of the Kingdom OST.zip'\n",
        "\n",
        "# Create a ZIP file\n",
        "shutil.make_archive(folder_path, 'zip', folder_path)"
      ],
      "metadata": {
        "id": "ErDSSToZMAXz"
      },
      "execution_count": null,
      "outputs": []
    }
  ]
}